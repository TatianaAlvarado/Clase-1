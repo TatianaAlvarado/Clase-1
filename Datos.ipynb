{
  "nbformat": 4,
  "nbformat_minor": 0,
  "metadata": {
    "colab": {
      "provenance": [],
      "authorship_tag": "ABX9TyPPKYgBmUbIwOYJxSFvwd0d",
      "include_colab_link": true
    },
    "kernelspec": {
      "name": "python3",
      "display_name": "Python 3"
    },
    "language_info": {
      "name": "python"
    }
  },
  "cells": [
    {
      "cell_type": "markdown",
      "metadata": {
        "id": "view-in-github",
        "colab_type": "text"
      },
      "source": [
        "<a href=\"https://colab.research.google.com/github/TatianaAlvarado/Clase-1/blob/main/Datos.ipynb\" target=\"_parent\"><img src=\"https://colab.research.google.com/assets/colab-badge.svg\" alt=\"Open In Colab\"/></a>"
      ]
    },
    {
      "cell_type": "code",
      "execution_count": 3,
      "metadata": {
        "colab": {
          "base_uri": "https://localhost:8080/"
        },
        "id": "pFI_F0VxLeUm",
        "outputId": "e778b0ab-e7c4-4ca1-e0cd-ccab1cbdd0f0"
      },
      "outputs": [
        {
          "output_type": "stream",
          "name": "stdout",
          "text": [
            "<class 'pandas.core.frame.DataFrame'>\n",
            "RangeIndex: 270 entries, 0 to 269\n",
            "Data columns (total 8 columns):\n",
            " #   Column             Non-Null Count  Dtype  \n",
            "---  ------             --------------  -----  \n",
            " 0   Codigo             270 non-null    object \n",
            " 1   Region             270 non-null    object \n",
            " 2   SubRegion          270 non-null    object \n",
            " 3   Country/Territory  270 non-null    object \n",
            " 4   Year               270 non-null    int64  \n",
            " 5   DrugGroup          270 non-null    object \n",
            " 6   quantity           270 non-null    float64\n",
            " 7   unit               270 non-null    object \n",
            "dtypes: float64(1), int64(1), object(6)\n",
            "memory usage: 17.0+ KB\n"
          ]
        }
      ],
      "source": [
        "#  Save the path o the file \n",
        "p ='/content/datos 2023.xlsx'\n",
        "\n",
        "# Read the file\n",
        "d = pd.read_excel(p)\n",
        "\n",
        "#Chek\n",
        "d.info()"
      ]
    },
    {
      "cell_type": "code",
      "source": [
        "# Libraries \n",
        "\n",
        "import numpy as np\n",
        "import pandas as pd\n"
      ],
      "metadata": {
        "id": "vXO1uQv_L-s3"
      },
      "execution_count": 2,
      "outputs": []
    }
  ]
}