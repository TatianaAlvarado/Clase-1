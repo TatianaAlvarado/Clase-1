{
  "nbformat": 4,
  "nbformat_minor": 0,
  "metadata": {
    "colab": {
      "provenance": [],
      "authorship_tag": "ABX9TyMf7RIMLSEcIGv54DMdG5Gx",
      "include_colab_link": true
    },
    "kernelspec": {
      "name": "python3",
      "display_name": "Python 3"
    },
    "language_info": {
      "name": "python"
    }
  },
  "cells": [
    {
      "cell_type": "markdown",
      "metadata": {
        "id": "view-in-github",
        "colab_type": "text"
      },
      "source": [
        "<a href=\"https://colab.research.google.com/github/TatianaAlvarado/Clase-1/blob/main/Clase4.ipynb\" target=\"_parent\"><img src=\"https://colab.research.google.com/assets/colab-badge.svg\" alt=\"Open In Colab\"/></a>"
      ]
    },
    {
      "cell_type": "markdown",
      "source": [
        "# Introduction\n",
        "\n",
        "Here, in this file, we are going to \"code\"\n",
        "\n",
        "We are going to understand Python, how it works, and some tricks.\n"
      ],
      "metadata": {
        "id": "Gphi2QQukDhd"
      }
    },
    {
      "cell_type": "markdown",
      "source": [
        "# 1. What is Python?\n",
        "\n",
        "It was created in 1991 and it is a **genera-purposue programing lenguage**.\n",
        "\n",
        "This means that Python is used for:\n",
        "\n",
        "* Data analysis\n",
        "* Automating task\n",
        "* Machinne learning\n",
        "* Data visualization\n",
        "* Optimization\n",
        "* Web development\n",
        "* User interfaces creation\n",
        "* Created another sofware\n",
        "* Create video games\n",
        "\n",
        "The world runs on Python, c++, java and HTLM / CSS, and R?\n",
        "\n",
        "\n"
      ],
      "metadata": {
        "id": "ZpDwp8LjkaA0"
      }
    },
    {
      "cell_type": "markdown",
      "source": [
        "# 2. Why Python?\n",
        "\n",
        "The main reasons:\n",
        "\n",
        "* It is simple\n",
        "* Focus.\n",
        "* Easy to learn.\n",
        "* Open-source_ it is free.\n",
        "* Cross-platform.\n",
        "* Extensive libraries.\n",
        "\n"
      ],
      "metadata": {
        "id": "z95TvQVBlt5_"
      }
    },
    {
      "cell_type": "markdown",
      "source": [
        "# 3. Getting started\n"
      ],
      "metadata": {
        "id": "zoPbwY3Rmxww"
      }
    },
    {
      "cell_type": "markdown",
      "source": [
        "# 3.1. Python as a Calculator\n"
      ],
      "metadata": {
        "id": "I7nWedIIm3BA"
      }
    },
    {
      "cell_type": "code",
      "source": [
        "# Addition \n",
        "2 + 2"
      ],
      "metadata": {
        "colab": {
          "base_uri": "https://localhost:8080/"
        },
        "id": "-wytWelhnHYv",
        "outputId": "47b7e743-3b1b-491f-f0f4-bceae92e6723"
      },
      "execution_count": null,
      "outputs": [
        {
          "output_type": "execute_result",
          "data": {
            "text/plain": [
              "4"
            ]
          },
          "metadata": {},
          "execution_count": 3
        }
      ]
    },
    {
      "cell_type": "code",
      "source": [
        "# Subtraction\n",
        "23 - 7"
      ],
      "metadata": {
        "colab": {
          "base_uri": "https://localhost:8080/"
        },
        "id": "PgIQvgMhoGAu",
        "outputId": "c9ad95a1-b7cc-4e5e-c907-074c939979a0"
      },
      "execution_count": null,
      "outputs": [
        {
          "output_type": "execute_result",
          "data": {
            "text/plain": [
              "16"
            ]
          },
          "metadata": {},
          "execution_count": 4
        }
      ]
    },
    {
      "cell_type": "code",
      "source": [
        "# Multiplication \n",
        "13 * 7"
      ],
      "metadata": {
        "colab": {
          "base_uri": "https://localhost:8080/"
        },
        "id": "PcLXQGppoTjq",
        "outputId": "2e18019b-063d-45b8-a16d-652cecab0c93"
      },
      "execution_count": null,
      "outputs": [
        {
          "output_type": "execute_result",
          "data": {
            "text/plain": [
              "91"
            ]
          },
          "metadata": {},
          "execution_count": 5
        }
      ]
    },
    {
      "cell_type": "code",
      "source": [
        "# Division\n",
        "10 / 3 "
      ],
      "metadata": {
        "colab": {
          "base_uri": "https://localhost:8080/"
        },
        "id": "IgC94PTuobPw",
        "outputId": "f409ed4a-8f88-483c-a215-3f5b0f4ff639"
      },
      "execution_count": null,
      "outputs": [
        {
          "output_type": "execute_result",
          "data": {
            "text/plain": [
              "3.3333333333333335"
            ]
          },
          "metadata": {},
          "execution_count": 6
        }
      ]
    },
    {
      "cell_type": "code",
      "source": [
        "# Integer Division\n",
        "10 // 3"
      ],
      "metadata": {
        "colab": {
          "base_uri": "https://localhost:8080/"
        },
        "id": "mqLBLZdkovya",
        "outputId": "48266aae-dc7e-4072-87e2-b558f71c70dc"
      },
      "execution_count": null,
      "outputs": [
        {
          "output_type": "execute_result",
          "data": {
            "text/plain": [
              "3"
            ]
          },
          "metadata": {},
          "execution_count": 7
        }
      ]
    },
    {
      "cell_type": "code",
      "source": [
        "# Exponential\n",
        "2**3"
      ],
      "metadata": {
        "colab": {
          "base_uri": "https://localhost:8080/"
        },
        "id": "YXzXUmxthV95",
        "outputId": "175c9ac9-35b0-48c1-bb88-db5dd7563a51"
      },
      "execution_count": null,
      "outputs": [
        {
          "output_type": "execute_result",
          "data": {
            "text/plain": [
              "8"
            ]
          },
          "metadata": {},
          "execution_count": 1
        }
      ]
    },
    {
      "cell_type": "markdown",
      "source": [
        "## 3.2 Composite operations and parenthesis\n",
        "\n",
        "operator precedence"
      ],
      "metadata": {
        "id": "lGDWUMhVh3of"
      }
    },
    {
      "cell_type": "code",
      "source": [
        "# Example\n",
        "2 + 3*4"
      ],
      "metadata": {
        "colab": {
          "base_uri": "https://localhost:8080/"
        },
        "id": "6xhHlM27iDG8",
        "outputId": "5ecba45f-5484-4c8c-f160-fe48bbd8d4a3"
      },
      "execution_count": null,
      "outputs": [
        {
          "output_type": "execute_result",
          "data": {
            "text/plain": [
              "14"
            ]
          },
          "metadata": {},
          "execution_count": 2
        }
      ]
    },
    {
      "cell_type": "markdown",
      "source": [
        "You can change the operator precedence using **Parenthesis**   "
      ],
      "metadata": {
        "id": "J5gpoL-LiOfP"
      }
    },
    {
      "cell_type": "code",
      "source": [
        "# Example\n",
        "(2+3)*4"
      ],
      "metadata": {
        "colab": {
          "base_uri": "https://localhost:8080/"
        },
        "id": "D_96jxrxihmO",
        "outputId": "500a7b5d-6420-4e10-c576-d9053e5e56e7"
      },
      "execution_count": null,
      "outputs": [
        {
          "output_type": "execute_result",
          "data": {
            "text/plain": [
              "20"
            ]
          },
          "metadata": {},
          "execution_count": 3
        }
      ]
    },
    {
      "cell_type": "markdown",
      "source": [
        "## 3.3 Integers and Real Numbers"
      ],
      "metadata": {
        "id": "AH8AiZ6IisfI"
      }
    },
    {
      "cell_type": "code",
      "source": [
        "# Interger (with no decimal positions)\n",
        "type(26)"
      ],
      "metadata": {
        "colab": {
          "base_uri": "https://localhost:8080/"
        },
        "id": "_qvVJ9x2jpjL",
        "outputId": "585d2ce9-4104-408d-d647-871fc2891643"
      },
      "execution_count": null,
      "outputs": [
        {
          "output_type": "execute_result",
          "data": {
            "text/plain": [
              "int"
            ]
          },
          "metadata": {},
          "execution_count": 5
        }
      ]
    },
    {
      "cell_type": "code",
      "source": [
        "# Real number (with decimal positions)\n",
        "type(26.0)"
      ],
      "metadata": {
        "colab": {
          "base_uri": "https://localhost:8080/"
        },
        "id": "KSRjKI8FkASs",
        "outputId": "f71875b2-16fa-4bb6-b67d-5cb427d0b5b1"
      },
      "execution_count": null,
      "outputs": [
        {
          "output_type": "execute_result",
          "data": {
            "text/plain": [
              "float"
            ]
          },
          "metadata": {},
          "execution_count": 6
        }
      ]
    },
    {
      "cell_type": "code",
      "source": [
        "# Examples\n",
        "#Find out if the next expressions are int or floats\n",
        "2 + 3.0\n",
        "2.5*7\n",
        "4.0/2"
      ],
      "metadata": {
        "colab": {
          "base_uri": "https://localhost:8080/"
        },
        "id": "Lp8ESHMJkdEi",
        "outputId": "c196eb09-edfc-462c-fd63-f96526d855cc"
      },
      "execution_count": null,
      "outputs": [
        {
          "output_type": "execute_result",
          "data": {
            "text/plain": [
              "2.0"
            ]
          },
          "metadata": {},
          "execution_count": 8
        }
      ]
    },
    {
      "cell_type": "code",
      "source": [
        "type(2 + 3.0)"
      ],
      "metadata": {
        "colab": {
          "base_uri": "https://localhost:8080/"
        },
        "id": "jOFZ21uIlQpF",
        "outputId": "b31fd069-5b8f-4b52-dd1a-0d14a25c81d6"
      },
      "execution_count": null,
      "outputs": [
        {
          "output_type": "execute_result",
          "data": {
            "text/plain": [
              "float"
            ]
          },
          "metadata": {},
          "execution_count": 9
        }
      ]
    },
    {
      "cell_type": "code",
      "source": [
        "type(2.5*7)"
      ],
      "metadata": {
        "colab": {
          "base_uri": "https://localhost:8080/"
        },
        "id": "Ea3CjqdllQ1u",
        "outputId": "cf516841-0a05-4cae-bea9-ce5019817f05"
      },
      "execution_count": null,
      "outputs": [
        {
          "output_type": "execute_result",
          "data": {
            "text/plain": [
              "float"
            ]
          },
          "metadata": {},
          "execution_count": 10
        }
      ]
    },
    {
      "cell_type": "code",
      "source": [
        "type(4.0/2)"
      ],
      "metadata": {
        "colab": {
          "base_uri": "https://localhost:8080/"
        },
        "id": "mrzLGEKolRDA",
        "outputId": "5e648fe5-63a7-4d76-9926-9ff8bedb87f6"
      },
      "execution_count": null,
      "outputs": [
        {
          "output_type": "execute_result",
          "data": {
            "text/plain": [
              "float"
            ]
          },
          "metadata": {},
          "execution_count": 11
        }
      ]
    },
    {
      "cell_type": "markdown",
      "source": [
        "## Scientific notation"
      ],
      "metadata": {
        "id": "PW6MIRAVnzYG"
      }
    },
    {
      "cell_type": "code",
      "source": [
        "# Example\n",
        "5e1"
      ],
      "metadata": {
        "colab": {
          "base_uri": "https://localhost:8080/"
        },
        "id": "4SfbXZvVn35B",
        "outputId": "e9a08bfc-2da3-44e7-a312-63643cd62b9e"
      },
      "execution_count": null,
      "outputs": [
        {
          "output_type": "execute_result",
          "data": {
            "text/plain": [
              "50.0"
            ]
          },
          "metadata": {},
          "execution_count": 12
        }
      ]
    },
    {
      "cell_type": "code",
      "source": [
        "6e-2"
      ],
      "metadata": {
        "colab": {
          "base_uri": "https://localhost:8080/"
        },
        "id": "BarVCOl8oHxt",
        "outputId": "b4f67407-5f15-4376-cd23-86e586bcc73f"
      },
      "execution_count": null,
      "outputs": [
        {
          "output_type": "execute_result",
          "data": {
            "text/plain": [
              "0.06"
            ]
          },
          "metadata": {},
          "execution_count": 13
        }
      ]
    },
    {
      "cell_type": "code",
      "source": [
        "type(5e1)"
      ],
      "metadata": {
        "colab": {
          "base_uri": "https://localhost:8080/"
        },
        "id": "mzklJuI5oTBj",
        "outputId": "2d2ccca3-dd0c-4008-8619-6523b897fcd6"
      },
      "execution_count": null,
      "outputs": [
        {
          "output_type": "execute_result",
          "data": {
            "text/plain": [
              "float"
            ]
          },
          "metadata": {},
          "execution_count": 14
        }
      ]
    },
    {
      "cell_type": "code",
      "source": [
        "# Practice\n",
        "# Writh 1million is scientific notion\n",
        "# What isthe resould of 3e0.2"
      ],
      "metadata": {
        "id": "cUkH3c7Xolom"
      },
      "execution_count": null,
      "outputs": []
    },
    {
      "cell_type": "code",
      "source": [
        "1e6"
      ],
      "metadata": {
        "colab": {
          "base_uri": "https://localhost:8080/"
        },
        "id": "bC5NfTGYpKiw",
        "outputId": "8ecab9f5-de21-45a7-9af5-a4b566848045"
      },
      "execution_count": null,
      "outputs": [
        {
          "output_type": "execute_result",
          "data": {
            "text/plain": [
              "1000000.0"
            ]
          },
          "metadata": {},
          "execution_count": 20
        }
      ]
    },
    {
      "cell_type": "code",
      "source": [
        "3e0.2\n"
      ],
      "metadata": {
        "colab": {
          "base_uri": "https://localhost:8080/",
          "height": 130
        },
        "id": "WJG5rmDKo1TA",
        "outputId": "89f642d4-369e-4b99-c8bf-48f75ce2a418"
      },
      "execution_count": null,
      "outputs": [
        {
          "output_type": "error",
          "ename": "SyntaxError",
          "evalue": "ignored",
          "traceback": [
            "\u001b[0;36m  File \u001b[0;32m\"<ipython-input-24-9f15c8039731>\"\u001b[0;36m, line \u001b[0;32m1\u001b[0m\n\u001b[0;31m    3e0.2\u001b[0m\n\u001b[0m       ^\u001b[0m\n\u001b[0;31mSyntaxError\u001b[0m\u001b[0;31m:\u001b[0m invalid syntax\n"
          ]
        }
      ]
    },
    {
      "cell_type": "markdown",
      "source": [
        "## Transformation\n",
        "\n",
        "You can change *type()* of a number,. Or youcan force a *type()* of a number"
      ],
      "metadata": {
        "id": "UHJgl8tCqNCJ"
      }
    },
    {
      "cell_type": "code",
      "source": [
        "# Example \n",
        "\n",
        "float(6)"
      ],
      "metadata": {
        "colab": {
          "base_uri": "https://localhost:8080/"
        },
        "id": "GysXOhozqkLo",
        "outputId": "2d0e4bd8-b8a6-4423-a432-08b155f7d108"
      },
      "execution_count": null,
      "outputs": [
        {
          "output_type": "execute_result",
          "data": {
            "text/plain": [
              "6.0"
            ]
          },
          "metadata": {},
          "execution_count": 26
        }
      ]
    },
    {
      "cell_type": "code",
      "source": [
        "# Example\n",
        "int(3.3333)"
      ],
      "metadata": {
        "colab": {
          "base_uri": "https://localhost:8080/"
        },
        "id": "O07LkYevquN1",
        "outputId": "0dc98cea-40ef-45cd-98e4-a8205f34154c"
      },
      "execution_count": null,
      "outputs": [
        {
          "output_type": "execute_result",
          "data": {
            "text/plain": [
              "3"
            ]
          },
          "metadata": {},
          "execution_count": 27
        }
      ]
    },
    {
      "cell_type": "markdown",
      "source": [
        "## 3.4 Basic and useful functions\n",
        "\n",
        "Functions lef us do things more efficienty"
      ],
      "metadata": {
        "id": "j-BvMEWKdfYB"
      }
    },
    {
      "cell_type": "markdown",
      "source": [
        "**Print**"
      ],
      "metadata": {
        "id": "8hbQEREaebMm"
      }
    },
    {
      "cell_type": "code",
      "source": [
        "# Example with numbers\n",
        "\n",
        "print(2023)\n",
        "print(2024)\n",
        "print(22,2,2022)"
      ],
      "metadata": {
        "colab": {
          "base_uri": "https://localhost:8080/"
        },
        "id": "24HOvQPLegmi",
        "outputId": "e4250f02-4ea3-4daa-9e13-4d7c18fbcb49"
      },
      "execution_count": 3,
      "outputs": [
        {
          "output_type": "stream",
          "name": "stdout",
          "text": [
            "2023\n",
            "2024\n",
            "22 2 2022\n"
          ]
        }
      ]
    },
    {
      "cell_type": "code",
      "source": [
        "# Example - hard version\n",
        "\n",
        "for i in range(0,11): print(i)"
      ],
      "metadata": {
        "colab": {
          "base_uri": "https://localhost:8080/"
        },
        "id": "QfehtafUgVks",
        "outputId": "7fd1cef3-27ed-46c0-ce0d-382e43737525"
      },
      "execution_count": 38,
      "outputs": [
        {
          "output_type": "stream",
          "name": "stdout",
          "text": [
            "0\n",
            "1\n",
            "2\n",
            "3\n",
            "4\n",
            "5\n",
            "6\n",
            "7\n",
            "8\n",
            "9\n",
            "10\n"
          ]
        }
      ]
    },
    {
      "cell_type": "code",
      "source": [
        "#   Example - with text\n",
        "\n",
        "print(\"Hello World\")\n",
        "print(\"Frist Name: Jose\", \"Second Name: Rodrigo\")\n",
        "print(\"Frist Name: Jose\", \"\\tSecond Name: Rodrigo\")\n",
        "print(\"Frist Name: Jose\", \"\\nSecond Name: Rodrigo\")"
      ],
      "metadata": {
        "colab": {
          "base_uri": "https://localhost:8080/"
        },
        "id": "qoMtshrlhKM3",
        "outputId": "d9dbc675-fcfe-48aa-902f-91213cfb7c88"
      },
      "execution_count": 12,
      "outputs": [
        {
          "output_type": "stream",
          "name": "stdout",
          "text": [
            "Hello World\n",
            "Frist Name: Jose Second Name: Rodrigo\n",
            "Frist Name: Jose \tSecond Name: Rodrigo\n",
            "Frist Name: Jose \n",
            "Second Name: Rodrigo\n"
          ]
        }
      ]
    },
    {
      "cell_type": "code",
      "source": [
        "# Example - Text Numbers\n",
        "\n",
        "print(\"My Lucky number is:\",21)"
      ],
      "metadata": {
        "colab": {
          "base_uri": "https://localhost:8080/"
        },
        "id": "P_vigA5ciwp7",
        "outputId": "1e33e2e4-804e-406d-f4cc-235458b5d09b"
      },
      "execution_count": 13,
      "outputs": [
        {
          "output_type": "stream",
          "name": "stdout",
          "text": [
            "My Lucky number is: 21\n"
          ]
        }
      ]
    },
    {
      "cell_type": "markdown",
      "source": [
        "## **Round**\n",
        "\n",
        "It will tle us to control the decimal positions"
      ],
      "metadata": {
        "id": "9im0p2qDjBUd"
      }
    },
    {
      "cell_type": "code",
      "source": [
        "# Example\n",
        "# Consider 8.53214794\n",
        "# let s  use round\n",
        "\n",
        "\n",
        "round(8.53214794,0)"
      ],
      "metadata": {
        "colab": {
          "base_uri": "https://localhost:8080/"
        },
        "id": "A0ZTpyxIjQyP",
        "outputId": "ec8f18b4-3407-4ce0-8baf-5625dc8673d9"
      },
      "execution_count": 15,
      "outputs": [
        {
          "output_type": "execute_result",
          "data": {
            "text/plain": [
              "9.0"
            ]
          },
          "metadata": {},
          "execution_count": 15
        }
      ]
    },
    {
      "cell_type": "code",
      "source": [
        "print(\"the rounded number of 8.53214794 is:\", 9.0)"
      ],
      "metadata": {
        "colab": {
          "base_uri": "https://localhost:8080/"
        },
        "id": "wqkIO2wCkUjM",
        "outputId": "5d964ab8-6266-4876-8b77-f24543aa000b"
      },
      "execution_count": 19,
      "outputs": [
        {
          "output_type": "stream",
          "name": "stdout",
          "text": [
            "the rounded number of 8.53214794 is: 9\n"
          ]
        }
      ]
    },
    {
      "cell_type": "code",
      "source": [
        "print('the rounded number of', 8.53214794,0, 'with', 0, 'decimals is:', round(8.53214794,0))\n",
        "print('the rounded number of', 8.53214794,0, 'with', 1, 'decimals is:', round(8.53214794,1))"
      ],
      "metadata": {
        "colab": {
          "base_uri": "https://localhost:8080/"
        },
        "id": "f9jdz7bclvt8",
        "outputId": "c502e4e8-c13c-4e56-d5b8-f6139c297b78"
      },
      "execution_count": 24,
      "outputs": [
        {
          "output_type": "stream",
          "name": "stdout",
          "text": [
            "the rounded number of 8.53214794 0 with 0 decimals is: 9.0\n",
            "the rounded number of 8.53214794 0 with 1 decimals is: 8.5\n"
          ]
        }
      ]
    },
    {
      "cell_type": "code",
      "source": [
        "print('The aproximation of', 8.53214794, 'with:')\n",
        "print(0, 'decimals is:', round(8.53214794,0))\n",
        "print(1, 'decimals is:', round(8.53214794,1))\n",
        "print('Decimals','Resoult')\n",
        "print(0, '\\t', round(8.53214794,0))\n",
        "print(1, '\\t', round(8.53214794,1))"
      ],
      "metadata": {
        "colab": {
          "base_uri": "https://localhost:8080/"
        },
        "id": "XGLk8egom79V",
        "outputId": "b964cf50-dc46-49e2-d61e-8b632791468f"
      },
      "execution_count": 30,
      "outputs": [
        {
          "output_type": "stream",
          "name": "stdout",
          "text": [
            "The aproximation of 8.53214794 with:\n",
            "0 decimals is: 9.0\n",
            "1 decimals is: 8.5\n",
            "Decimals Resoult\n",
            "0 \t 9.0\n",
            "1 \t 8.5\n"
          ]
        }
      ]
    },
    {
      "cell_type": "code",
      "source": [
        "print('Decimals','Resoult')\n",
        "print(0, '\\t', round(8.53214794,0))\n",
        "print(1, '\\t', round(8.53214794,1))\n",
        "print(2, '\\t', round(8.53214794,2))\n",
        "print(3, '\\t', round(8.53214794,3))\n",
        "print(4, '\\t', round(8.53214794,4))\n",
        "print(5, '\\t', round(8.53214794,5))\n",
        "print(6, '\\t', round(8.53214794,6))\n",
        "print(7, '\\t', round(8.53214794,7))"
      ],
      "metadata": {
        "colab": {
          "base_uri": "https://localhost:8080/"
        },
        "id": "USTAGug9qfxq",
        "outputId": "fdd5bcb9-f65f-4bc7-c2bf-abefc97f34b0"
      },
      "execution_count": 41,
      "outputs": [
        {
          "output_type": "stream",
          "name": "stdout",
          "text": [
            "Decimals Resoult\n",
            "0 \t 9.0\n",
            "1 \t 8.5\n",
            "2 \t 8.53\n",
            "3 \t 8.532\n",
            "4 \t 8.5321\n",
            "5 \t 8.53215\n",
            "6 \t 8.532148\n",
            "7 \t 8.5321479\n"
          ]
        }
      ]
    },
    {
      "cell_type": "code",
      "source": [
        "print('The aproximation of', 8.53214794, 'with:')\n",
        "print('Decimals','Resoult')\n",
        "for i in range(0,8): \n",
        "   print(i,'\\t', round(8.53214794,i))\n",
        "\n"
      ],
      "metadata": {
        "colab": {
          "base_uri": "https://localhost:8080/"
        },
        "id": "BAiav_GFpJ9V",
        "outputId": "d54e95c4-35af-4381-8dfe-064a7c0d6f49"
      },
      "execution_count": 55,
      "outputs": [
        {
          "output_type": "stream",
          "name": "stdout",
          "text": [
            "The aproximation of 8.53214794 with:\n",
            "Decimals Resoult\n",
            "0 \t 9.0\n",
            "1 \t 8.5\n",
            "2 \t 8.53\n",
            "3 \t 8.532\n",
            "4 \t 8.5321\n",
            "5 \t 8.53215\n",
            "6 \t 8.532148\n",
            "7 \t 8.5321479\n"
          ]
        }
      ]
    },
    {
      "cell_type": "code",
      "source": [
        "print('multiples of', 2, 'with:')\n",
        "for i in range(1,101): print(i,'\\t',2*i)\n"
      ],
      "metadata": {
        "colab": {
          "base_uri": "https://localhost:8080/"
        },
        "id": "Oh6RV6HRs0z7",
        "outputId": "62f688be-b311-49b9-aa4c-5b23feff2e42"
      },
      "execution_count": 68,
      "outputs": [
        {
          "output_type": "stream",
          "name": "stdout",
          "text": [
            "multiples of 2 with:\n",
            "1 \t 2\n",
            "2 \t 4\n",
            "3 \t 6\n",
            "4 \t 8\n",
            "5 \t 10\n",
            "6 \t 12\n",
            "7 \t 14\n",
            "8 \t 16\n",
            "9 \t 18\n",
            "10 \t 20\n",
            "11 \t 22\n",
            "12 \t 24\n",
            "13 \t 26\n",
            "14 \t 28\n",
            "15 \t 30\n",
            "16 \t 32\n",
            "17 \t 34\n",
            "18 \t 36\n",
            "19 \t 38\n",
            "20 \t 40\n",
            "21 \t 42\n",
            "22 \t 44\n",
            "23 \t 46\n",
            "24 \t 48\n",
            "25 \t 50\n",
            "26 \t 52\n",
            "27 \t 54\n",
            "28 \t 56\n",
            "29 \t 58\n",
            "30 \t 60\n",
            "31 \t 62\n",
            "32 \t 64\n",
            "33 \t 66\n",
            "34 \t 68\n",
            "35 \t 70\n",
            "36 \t 72\n",
            "37 \t 74\n",
            "38 \t 76\n",
            "39 \t 78\n",
            "40 \t 80\n",
            "41 \t 82\n",
            "42 \t 84\n",
            "43 \t 86\n",
            "44 \t 88\n",
            "45 \t 90\n",
            "46 \t 92\n",
            "47 \t 94\n",
            "48 \t 96\n",
            "49 \t 98\n",
            "50 \t 100\n",
            "51 \t 102\n",
            "52 \t 104\n",
            "53 \t 106\n",
            "54 \t 108\n",
            "55 \t 110\n",
            "56 \t 112\n",
            "57 \t 114\n",
            "58 \t 116\n",
            "59 \t 118\n",
            "60 \t 120\n",
            "61 \t 122\n",
            "62 \t 124\n",
            "63 \t 126\n",
            "64 \t 128\n",
            "65 \t 130\n",
            "66 \t 132\n",
            "67 \t 134\n",
            "68 \t 136\n",
            "69 \t 138\n",
            "70 \t 140\n",
            "71 \t 142\n",
            "72 \t 144\n",
            "73 \t 146\n",
            "74 \t 148\n",
            "75 \t 150\n",
            "76 \t 152\n",
            "77 \t 154\n",
            "78 \t 156\n",
            "79 \t 158\n",
            "80 \t 160\n",
            "81 \t 162\n",
            "82 \t 164\n",
            "83 \t 166\n",
            "84 \t 168\n",
            "85 \t 170\n",
            "86 \t 172\n",
            "87 \t 174\n",
            "88 \t 176\n",
            "89 \t 178\n",
            "90 \t 180\n",
            "91 \t 182\n",
            "92 \t 184\n",
            "93 \t 186\n",
            "94 \t 188\n",
            "95 \t 190\n",
            "96 \t 192\n",
            "97 \t 194\n",
            "98 \t 196\n",
            "99 \t 198\n",
            "100 \t 200\n"
          ]
        }
      ]
    }
  ]
}