{
  "nbformat": 4,
  "nbformat_minor": 0,
  "metadata": {
    "colab": {
      "provenance": [],
      "authorship_tag": "ABX9TyOCSKlXM+gmVZIsSbVcjilb",
      "include_colab_link": true
    },
    "kernelspec": {
      "name": "python3",
      "display_name": "Python 3"
    },
    "language_info": {
      "name": "python"
    }
  },
  "cells": [
    {
      "cell_type": "markdown",
      "metadata": {
        "id": "view-in-github",
        "colab_type": "text"
      },
      "source": [
        "<a href=\"https://colab.research.google.com/github/TatianaAlvarado/Clase-1/blob/main/Clase_7_2.ipynb\" target=\"_parent\"><img src=\"https://colab.research.google.com/assets/colab-badge.svg\" alt=\"Open In Colab\"/></a>"
      ]
    },
    {
      "cell_type": "markdown",
      "source": [
        "# **1. What is a DS**\n",
        "\n",
        "A DS is an object that let us store more thatn one value.\n",
        "Formally, a DS is **squence** of values which can be located with an index.\n",
        "**texto en negrita**\n"
      ],
      "metadata": {
        "id": "cjjeDP2Xuczm"
      }
    },
    {
      "cell_type": "markdown",
      "source": [
        "# **2. Linear Algebra**"
      ],
      "metadata": {
        "id": "v7H762Zow2DD"
      }
    },
    {
      "cell_type": "markdown",
      "source": [
        "## 2.1 What is Numpy?\n",
        "\n",
        "Numpy ( Numerical Python) is a collection of functions and methods"
      ],
      "metadata": {
        "id": "IF9LNO1DxA8j"
      }
    },
    {
      "cell_type": "code",
      "source": [
        "# Instal the library\n",
        "\n",
        "import numpy as np"
      ],
      "metadata": {
        "id": "QwAIA9zyxyu5"
      },
      "execution_count": 4,
      "outputs": []
    },
    {
      "cell_type": "markdown",
      "source": [
        "## 2.2 Numpy arrays - vectors and matrices"
      ],
      "metadata": {
        "id": "r-TMe67oyeQQ"
      }
    },
    {
      "cell_type": "markdown",
      "source": [
        "*Example 1* - Column vector\n"
      ],
      "metadata": {
        "id": "Dj72NkPyynCV"
      }
    },
    {
      "cell_type": "code",
      "source": [
        "a = np.array ([[1],[2],[3]])\n",
        "print(a)"
      ],
      "metadata": {
        "colab": {
          "base_uri": "https://localhost:8080/"
        },
        "id": "S-TmwOzpzxEE",
        "outputId": "a9cfafb9-4b5d-4e19-e138-68eca6d3319e"
      },
      "execution_count": 5,
      "outputs": [
        {
          "output_type": "stream",
          "name": "stdout",
          "text": [
            "[[1]\n",
            " [2]\n",
            " [3]]\n"
          ]
        }
      ]
    }
  ]
}