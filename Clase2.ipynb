{
  "nbformat": 4,
  "nbformat_minor": 0,
  "metadata": {
    "colab": {
      "provenance": [],
      "authorship_tag": "ABX9TyMFP0idkn64yRgHnKODms5q",
      "include_colab_link": true
    },
    "kernelspec": {
      "name": "python3",
      "display_name": "Python 3"
    },
    "language_info": {
      "name": "python"
    }
  },
  "cells": [
    {
      "cell_type": "markdown",
      "metadata": {
        "id": "view-in-github",
        "colab_type": "text"
      },
      "source": [
        "<a href=\"https://colab.research.google.com/github/TatianaAlvarado/Clase-1/blob/main/Clase2.ipynb\" target=\"_parent\"><img src=\"https://colab.research.google.com/assets/colab-badge.svg\" alt=\"Open In Colab\"/></a>"
      ]
    },
    {
      "cell_type": "code",
      "execution_count": null,
      "metadata": {
        "id": "8Wxq50AkjwwS"
      },
      "outputs": [],
      "source": []
    },
    {
      "cell_type": "markdown",
      "source": [
        "# Introduction\n",
        "\n",
        "Here, in this file, we are going to \"code\"\n",
        "\n",
        "We are going to understand Python, how it works, and some tricks.\n"
      ],
      "metadata": {
        "id": "Gphi2QQukDhd"
      }
    },
    {
      "cell_type": "markdown",
      "source": [
        "# 1. What is Python?\n",
        "\n",
        "It was created in 1991 and it is a **genera-purposue programing lenguage**.\n",
        "\n",
        "This means that Python is used for:\n",
        "\n",
        "* Data analysis\n",
        "* Automating task\n",
        "* Machinne learning\n",
        "* Data visualization\n",
        "* Optimization\n",
        "* Web development\n",
        "* User interfaces creation\n",
        "* Created another sofware\n",
        "* Create video games\n",
        "\n",
        "The world runs on Python, c++, java and HTLM / CSS, and R?\n",
        "\n",
        "\n"
      ],
      "metadata": {
        "id": "ZpDwp8LjkaA0"
      }
    },
    {
      "cell_type": "markdown",
      "source": [
        "# 2. Why Python?\n",
        "\n",
        "The main reasons:\n",
        "\n",
        "* It is simple\n",
        "* Focus.\n",
        "* Easy to learn.\n",
        "* Open-source_ it is free.\n",
        "* Cross-platform.\n",
        "* Extensive libraries.\n",
        "\n"
      ],
      "metadata": {
        "id": "z95TvQVBlt5_"
      }
    },
    {
      "cell_type": "markdown",
      "source": [
        "# 3. Getting started\n"
      ],
      "metadata": {
        "id": "zoPbwY3Rmxww"
      }
    },
    {
      "cell_type": "markdown",
      "source": [
        "# 3.1. Python as a Calculator\n"
      ],
      "metadata": {
        "id": "I7nWedIIm3BA"
      }
    },
    {
      "cell_type": "code",
      "source": [
        "# Addition \n",
        "2 + 2"
      ],
      "metadata": {
        "colab": {
          "base_uri": "https://localhost:8080/"
        },
        "id": "-wytWelhnHYv",
        "outputId": "47b7e743-3b1b-491f-f0f4-bceae92e6723"
      },
      "execution_count": 3,
      "outputs": [
        {
          "output_type": "execute_result",
          "data": {
            "text/plain": [
              "4"
            ]
          },
          "metadata": {},
          "execution_count": 3
        }
      ]
    },
    {
      "cell_type": "code",
      "source": [
        "# Subtraction\n",
        "23 - 7"
      ],
      "metadata": {
        "colab": {
          "base_uri": "https://localhost:8080/"
        },
        "id": "PgIQvgMhoGAu",
        "outputId": "c9ad95a1-b7cc-4e5e-c907-074c939979a0"
      },
      "execution_count": 4,
      "outputs": [
        {
          "output_type": "execute_result",
          "data": {
            "text/plain": [
              "16"
            ]
          },
          "metadata": {},
          "execution_count": 4
        }
      ]
    },
    {
      "cell_type": "code",
      "source": [
        "# Multiplication \n",
        "13 * 7"
      ],
      "metadata": {
        "colab": {
          "base_uri": "https://localhost:8080/"
        },
        "id": "PcLXQGppoTjq",
        "outputId": "2e18019b-063d-45b8-a16d-652cecab0c93"
      },
      "execution_count": 5,
      "outputs": [
        {
          "output_type": "execute_result",
          "data": {
            "text/plain": [
              "91"
            ]
          },
          "metadata": {},
          "execution_count": 5
        }
      ]
    },
    {
      "cell_type": "code",
      "source": [
        "# Division\n",
        "10 / 3 "
      ],
      "metadata": {
        "colab": {
          "base_uri": "https://localhost:8080/"
        },
        "id": "IgC94PTuobPw",
        "outputId": "f409ed4a-8f88-483c-a215-3f5b0f4ff639"
      },
      "execution_count": 6,
      "outputs": [
        {
          "output_type": "execute_result",
          "data": {
            "text/plain": [
              "3.3333333333333335"
            ]
          },
          "metadata": {},
          "execution_count": 6
        }
      ]
    },
    {
      "cell_type": "code",
      "source": [
        "# Integer Division\n",
        "10 // 3"
      ],
      "metadata": {
        "colab": {
          "base_uri": "https://localhost:8080/"
        },
        "id": "mqLBLZdkovya",
        "outputId": "48266aae-dc7e-4072-87e2-b558f71c70dc"
      },
      "execution_count": 7,
      "outputs": [
        {
          "output_type": "execute_result",
          "data": {
            "text/plain": [
              "3"
            ]
          },
          "metadata": {},
          "execution_count": 7
        }
      ]
    }
  ]
}