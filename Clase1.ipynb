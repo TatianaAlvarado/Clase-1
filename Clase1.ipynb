{
  "nbformat": 4,
  "nbformat_minor": 0,
  "metadata": {
    "colab": {
      "provenance": [],
      "toc_visible": true,
      "authorship_tag": "ABX9TyMVDlahR/2i0ppU4x1sRJVn",
      "include_colab_link": true
    },
    "kernelspec": {
      "name": "python3",
      "display_name": "Python 3"
    },
    "language_info": {
      "name": "python"
    }
  },
  "cells": [
    {
      "cell_type": "markdown",
      "metadata": {
        "id": "view-in-github",
        "colab_type": "text"
      },
      "source": [
        "<a href=\"https://colab.research.google.com/github/TatianaAlvarado/Clase-1/blob/main/Clase1.ipynb\" target=\"_parent\"><img src=\"https://colab.research.google.com/assets/colab-badge.svg\" alt=\"Open In Colab\"/></a>"
      ]
    },
    {
      "cell_type": "code",
      "execution_count": null,
      "metadata": {
        "id": "kCMIvs3Fl17s"
      },
      "outputs": [],
      "source": []
    },
    {
      "cell_type": "markdown",
      "source": [
        "# Apple\n",
        "## subtitle\n",
        "### subsubtitle"
      ],
      "metadata": {
        "id": "qZduCXbMdnU_"
      }
    },
    {
      "cell_type": "markdown",
      "source": [
        "## Section 1"
      ],
      "metadata": {
        "id": "tKjZRnVpeOWB"
      }
    },
    {
      "cell_type": "markdown",
      "source": [
        "## Subsection 1\n"
      ],
      "metadata": {
        "id": "YGwqsmv2eqMJ"
      }
    },
    {
      "cell_type": "markdown",
      "source": [],
      "metadata": {
        "id": "KvNyLhU0e1OO"
      }
    },
    {
      "cell_type": "markdown",
      "source": [
        "# Text Formating"
      ],
      "metadata": {
        "id": "L6MOELwle1Y7"
      }
    },
    {
      "cell_type": "markdown",
      "source": [
        "## Bold\n",
        "\n",
        "using **:\n",
        "\n",
        "`**Rodrigo**` = **Rodrigo**\n",
        "\n",
        "\n"
      ],
      "metadata": {
        "id": "WiHNGfdxfAQi"
      }
    },
    {
      "cell_type": "markdown",
      "source": [
        "##Italic\n",
        "\n",
        "Use `*`\n",
        "\n",
        "*Velez* = *Velez*"
      ],
      "metadata": {
        "id": "fmn_IgnYgVHg"
      }
    },
    {
      "cell_type": "markdown",
      "source": [
        "**Paula Tatiana** *Alvarado* ***Gil***"
      ],
      "metadata": {
        "id": "rOhKVipQhklH"
      }
    },
    {
      "cell_type": "markdown",
      "source": [
        "## Unordered List\n",
        "\n",
        "**List of sports:**\n",
        "* Football\n",
        "* Basketball\n",
        "* Volleyball\n"
      ],
      "metadata": {
        "id": "jYAuVHtrjPYl"
      }
    },
    {
      "cell_type": "markdown",
      "source": [
        "## Odered list\n",
        "\n",
        "** The Best Singngers:**\n",
        "\n",
        "1. Justin Bieber\n",
        "2. Maluma\n",
        "3. Adele"
      ],
      "metadata": {
        "id": "Wzqrzf_SjzOa"
      }
    },
    {
      "cell_type": "markdown",
      "source": [
        "## Nested lists\n",
        "\n",
        "**To-Do list:**\n",
        "\n",
        "  1. Trainning\n",
        "\n",
        "         1.1 Wake-up early\n",
        "         1.2 Run 10 Km\n",
        "\n",
        "  2. Rest\n",
        "        \n",
        "         2.1 Sleep"
      ],
      "metadata": {
        "id": "D9DfSewtkXJh"
      }
    },
    {
      "cell_type": "markdown",
      "source": [
        " ## To-Do list for tomorrow\n",
        " \n",
        " 1. Me despierto a las 4am\n",
        "  \n",
        "      1.1 Me organizo \n",
        "\n",
        "      1.2 Desayuno\n",
        "\n",
        "      1.3 Salgo para la U\n",
        "\n",
        "\n",
        "  2. Llego a la Universidad\n",
        "\n",
        "      2.1 Veo clase de 7 a 3\n",
        "\n",
        "      2.2 Me voy para la casa \n",
        "\n",
        "      2.3 Me acuesto \n",
        "\n",
        "   \n",
        "    "
      ],
      "metadata": {
        "id": "PRnr2iNLleuj"
      }
    }
  ]
}