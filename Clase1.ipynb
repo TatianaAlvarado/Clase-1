{
  "nbformat": 4,
  "nbformat_minor": 0,
  "metadata": {
    "colab": {
      "provenance": [],
      "toc_visible": true,
      "authorship_tag": "ABX9TyMhRk/Gt58Qk80vQYF4lV2s",
      "include_colab_link": true
    },
    "kernelspec": {
      "name": "python3",
      "display_name": "Python 3"
    },
    "language_info": {
      "name": "python"
    }
  },
  "cells": [
    {
      "cell_type": "markdown",
      "metadata": {
        "id": "view-in-github",
        "colab_type": "text"
      },
      "source": [
        "<a href=\"https://colab.research.google.com/github/TatianaAlvarado/Clase-1/blob/main/Clase1.ipynb\" target=\"_parent\"><img src=\"https://colab.research.google.com/assets/colab-badge.svg\" alt=\"Open In Colab\"/></a>"
      ]
    },
    {
      "cell_type": "code",
      "execution_count": null,
      "metadata": {
        "id": "kCMIvs3Fl17s"
      },
      "outputs": [],
      "source": []
    },
    {
      "cell_type": "markdown",
      "source": [
        "# Apple\n",
        "## subtitle\n",
        "### subsubtitle"
      ],
      "metadata": {
        "id": "qZduCXbMdnU_"
      }
    },
    {
      "cell_type": "markdown",
      "source": [
        "## Section 1"
      ],
      "metadata": {
        "id": "tKjZRnVpeOWB"
      }
    },
    {
      "cell_type": "markdown",
      "source": [
        "## Subsection 1\n"
      ],
      "metadata": {
        "id": "YGwqsmv2eqMJ"
      }
    },
    {
      "cell_type": "markdown",
      "source": [],
      "metadata": {
        "id": "KvNyLhU0e1OO"
      }
    },
    {
      "cell_type": "markdown",
      "source": [
        "# Text Formating"
      ],
      "metadata": {
        "id": "L6MOELwle1Y7"
      }
    },
    {
      "cell_type": "markdown",
      "source": [
        "## Bold\n",
        "\n",
        "using **:\n",
        "\n",
        "`**Rodrigo**` = **Rodrigo**\n",
        "\n",
        "\n"
      ],
      "metadata": {
        "id": "WiHNGfdxfAQi"
      }
    },
    {
      "cell_type": "markdown",
      "source": [
        "##Italic\n",
        "\n",
        "Use `*`\n",
        "\n",
        "*Velez* = *Velez*"
      ],
      "metadata": {
        "id": "fmn_IgnYgVHg"
      }
    },
    {
      "cell_type": "markdown",
      "source": [
        "**Paula Tatiana** *Alvarado* ***Gil***"
      ],
      "metadata": {
        "id": "rOhKVipQhklH"
      }
    }
  ]
}