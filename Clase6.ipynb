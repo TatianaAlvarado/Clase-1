{
  "nbformat": 4,
  "nbformat_minor": 0,
  "metadata": {
    "colab": {
      "provenance": [],
      "authorship_tag": "ABX9TyPbJvwLOle34yab0LZBuTHx",
      "include_colab_link": true
    },
    "kernelspec": {
      "name": "python3",
      "display_name": "Python 3"
    },
    "language_info": {
      "name": "python"
    }
  },
  "cells": [
    {
      "cell_type": "markdown",
      "metadata": {
        "id": "view-in-github",
        "colab_type": "text"
      },
      "source": [
        "<a href=\"https://colab.research.google.com/github/TatianaAlvarado/Clase-1/blob/main/Clase6.ipynb\" target=\"_parent\"><img src=\"https://colab.research.google.com/assets/colab-badge.svg\" alt=\"Open In Colab\"/></a>"
      ]
    },
    {
      "cell_type": "markdown",
      "source": [
        "#**1. What is a variable?**\n",
        "\n",
        "A variable is a *container*, in the sense that it *stores* values."
      ],
      "metadata": {
        "id": "MtB66eK9wv2X"
      }
    },
    {
      "cell_type": "code",
      "source": [
        "# Example\n",
        "\n",
        "a = 2.57\n",
        "print(a)"
      ],
      "metadata": {
        "colab": {
          "base_uri": "https://localhost:8080/"
        },
        "id": "jnIzUwZHxJRf",
        "outputId": "bd4bf908-69a6-4e46-b3aa-d84d5037c117"
      },
      "execution_count": null,
      "outputs": [
        {
          "output_type": "stream",
          "name": "stdout",
          "text": [
            "2.57\n"
          ]
        }
      ]
    },
    {
      "cell_type": "code",
      "source": [
        "# Example\n",
        "num = 8.53214794\n",
        "pi = 0\n",
        "pf = 7\n",
        "print('The aproximation of',num , 'with:')\n",
        "print('Decimals','Resoult')\n",
        "for i in range(pi,pf+1): \n",
        "   print(i,'\\t', round(num,i))"
      ],
      "metadata": {
        "colab": {
          "base_uri": "https://localhost:8080/"
        },
        "id": "6ab1ismvxyAz",
        "outputId": "45aa14de-8152-4b82-b234-123fb4f6d411"
      },
      "execution_count": null,
      "outputs": [
        {
          "output_type": "stream",
          "name": "stdout",
          "text": [
            "The aproximation of 8.53214794 with:\n",
            "Decimals Resoult\n",
            "0 \t 9.0\n",
            "1 \t 8.5\n",
            "2 \t 8.53\n",
            "3 \t 8.532\n",
            "4 \t 8.5321\n",
            "5 \t 8.53215\n",
            "6 \t 8.532148\n",
            "7 \t 8.5321479\n"
          ]
        }
      ]
    },
    {
      "cell_type": "code",
      "source": [
        "## Example\n",
        "\n",
        "x = y = z = 45\n",
        "print(x,y,z)"
      ],
      "metadata": {
        "colab": {
          "base_uri": "https://localhost:8080/"
        },
        "id": "wIzAVNoso5yD",
        "outputId": "f3fc9a3c-1d9f-4428-b464-6f6f530880c5"
      },
      "execution_count": null,
      "outputs": [
        {
          "output_type": "stream",
          "name": "stdout",
          "text": [
            "45 45 45\n"
          ]
        }
      ]
    },
    {
      "cell_type": "code",
      "source": [
        "##Example . reglace values\n",
        "\n",
        "z = 17"
      ],
      "metadata": {
        "id": "-j0f8PtVpJrf"
      },
      "execution_count": null,
      "outputs": []
    },
    {
      "cell_type": "markdown",
      "source": [
        "# 3. Delete and Clear "
      ],
      "metadata": {
        "id": "ELxNPA9tpYiD"
      }
    },
    {
      "cell_type": "code",
      "source": [
        "#Example - Delete\n",
        "\n",
        "del x , y"
      ],
      "metadata": {
        "id": "CXmOtmGwphfh"
      },
      "execution_count": null,
      "outputs": []
    },
    {
      "cell_type": "code",
      "source": [
        "#Example - Clear\n",
        "\n",
        "%reset \n"
      ],
      "metadata": {
        "id": "LNOAIeo7qGmn"
      },
      "execution_count": null,
      "outputs": []
    },
    {
      "cell_type": "markdown",
      "source": [
        "# 4. Naming\n"
      ],
      "metadata": {
        "id": "acridsS4qaA0"
      }
    },
    {
      "cell_type": "markdown",
      "source": [
        "##4.1 Conditions and restrictions*"
      ],
      "metadata": {
        "id": "dXdpK3riqi1f"
      }
    },
    {
      "cell_type": "code",
      "source": [
        "# Example - Always a name of variable must star with a letter \n",
        "\n",
        "age = 18"
      ],
      "metadata": {
        "id": "GgSUzdCfqt7f"
      },
      "execution_count": null,
      "outputs": []
    },
    {
      "cell_type": "markdown",
      "source": [
        "## 4.2 Best Practices\n"
      ],
      "metadata": {
        "id": "HKbcLn-Rrb9y"
      }
    },
    {
      "cell_type": "markdown",
      "source": [
        "## Case sentive \n",
        "\n",
        "\n"
      ],
      "metadata": {
        "id": "0XkEw8WKrnWO"
      }
    },
    {
      "cell_type": "code",
      "source": [
        "# Example \n",
        "\n",
        "age = 78\n",
        "AGE = 23\n",
        "\n",
        "# Sug: Always use lowercase"
      ],
      "metadata": {
        "id": "0rjSZN08ru9k"
      },
      "execution_count": null,
      "outputs": []
    },
    {
      "cell_type": "markdown",
      "source": [
        "## Compound name"
      ],
      "metadata": {
        "id": "wcOOktaLsHEy"
      }
    },
    {
      "cell_type": "code",
      "source": [
        "# Example \n",
        "\n",
        "Price_jean = 150000"
      ],
      "metadata": {
        "id": "uY2hP33or3vN"
      },
      "execution_count": null,
      "outputs": []
    },
    {
      "cell_type": "markdown",
      "source": [
        "# 5. Data Types"
      ],
      "metadata": {
        "id": "tXkUVEzwshRK"
      }
    },
    {
      "cell_type": "markdown",
      "source": [
        "## 5.1 Integers"
      ],
      "metadata": {
        "id": "LmWVKp9dsiak"
      }
    },
    {
      "cell_type": "markdown",
      "source": [
        "## 5.2 Float"
      ],
      "metadata": {
        "id": "As82UYhmssZB"
      }
    },
    {
      "cell_type": "markdown",
      "source": [
        "**Parenthesis** A Trick"
      ],
      "metadata": {
        "id": "k2fASZLsssgy"
      }
    },
    {
      "cell_type": "code",
      "source": [
        "# Example - set up\n",
        "\n",
        "w = 0"
      ],
      "metadata": {
        "id": "q51AaoDAs8J6"
      },
      "execution_count": null,
      "outputs": []
    },
    {
      "cell_type": "code",
      "source": [
        "# Example\n",
        "\n",
        "w += 3\n",
        "print(w)\n"
      ],
      "metadata": {
        "id": "yKFtVDkmtJLx"
      },
      "execution_count": null,
      "outputs": []
    },
    {
      "cell_type": "markdown",
      "source": [
        "## 5.3 Text"
      ],
      "metadata": {
        "id": "ZunxtjoEtqEg"
      }
    },
    {
      "cell_type": "code",
      "source": [
        "# Example\n",
        "\n",
        "name = 'Universidad de la salle'\n",
        "print(name)"
      ],
      "metadata": {
        "id": "mQ5TEvm4tsuV"
      },
      "execution_count": null,
      "outputs": []
    },
    {
      "cell_type": "code",
      "source": [
        "name[6]"
      ],
      "metadata": {
        "id": "FXiI6k-SuF4A"
      },
      "execution_count": null,
      "outputs": []
    },
    {
      "cell_type": "code",
      "source": [
        "name[-1]"
      ],
      "metadata": {
        "id": "6tpZPCW0ukDx"
      },
      "execution_count": null,
      "outputs": []
    },
    {
      "cell_type": "code",
      "source": [
        "name[0:11]"
      ],
      "metadata": {
        "id": "hdy133isurFK"
      },
      "execution_count": null,
      "outputs": []
    },
    {
      "cell_type": "code",
      "source": [
        "name.split[]"
      ],
      "metadata": {
        "id": "6wgdrH33vCoL"
      },
      "execution_count": null,
      "outputs": []
    },
    {
      "cell_type": "code",
      "source": [
        "name.split[1]"
      ],
      "metadata": {
        "id": "iTOUWm--vbNm"
      },
      "execution_count": null,
      "outputs": []
    }
  ]
}